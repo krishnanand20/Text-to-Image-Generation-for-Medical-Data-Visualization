{
 "cells": [
  {
   "cell_type": "code",
   "execution_count": 4,
   "metadata": {},
   "outputs": [
    {
     "name": "stdout",
     "output_type": "stream",
     "text": [
      "Index(['id'], dtype='object')\n",
      "                 id\n",
      "0  00000001_000.png\n",
      "1  00000002_000.png\n",
      "2  00000003_000.png\n",
      "3  00000003_001.png\n",
      "4  00000003_002.png\n"
     ]
    }
   ],
   "source": [
    "import pandas as pd\n",
    "\n",
    "# Load primary ID of Longtail \n",
    "metadata_id_longtail = pd.read_csv('/Users/krishnanand/Documents/Git/CXR8/LongTailCXR/nih-cxr-lt_image_ids.csv')\n",
    "\n",
    "# View columns and sample rows\n",
    "print(metadata_id_longtail.columns)\n",
    "print(metadata_id_longtail.head())"
   ]
  },
  {
   "cell_type": "code",
   "execution_count": null,
   "metadata": {},
   "outputs": [],
   "source": [
    "import pandas as pd\n",
    "\n",
    "# Load primary metadata CSV (example: 'Data_Entry_2017.csv')\n",
    "metadata_longtail_lt_single_label_balanced_test = pd.read_csv('/Users/krishnanand/Documents/Git/CXR8/LongTailCXR/nih-cxr-lt_single-label_balanced-test.csv')\n",
    "\n",
    "# View columns and sample rows\n",
    "print(metadata_id_longtail.columns)\n",
    "print(metadata_id_longtail.head())"
   ]
  }
 ],
 "metadata": {
  "kernelspec": {
   "display_name": "base",
   "language": "python",
   "name": "python3"
  },
  "language_info": {
   "codemirror_mode": {
    "name": "ipython",
    "version": 3
   },
   "file_extension": ".py",
   "mimetype": "text/x-python",
   "name": "python",
   "nbconvert_exporter": "python",
   "pygments_lexer": "ipython3",
   "version": "3.9.13"
  }
 },
 "nbformat": 4,
 "nbformat_minor": 2
}
