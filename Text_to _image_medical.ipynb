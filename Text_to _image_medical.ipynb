{
 "cells": [
  {
   "cell_type": "markdown",
   "metadata": {},
   "source": [
    "# Loading metadata: respective CSV of each set of image folders\n",
    "\n"
   ]
  },
  {
   "cell_type": "code",
   "execution_count": 15,
   "metadata": {},
   "outputs": [
    {
     "name": "stdout",
     "output_type": "stream",
     "text": [
      "Index(['id'], dtype='object')\n",
      "                 id\n",
      "0  00000001_000.png\n",
      "1  00000002_000.png\n",
      "2  00000003_000.png\n",
      "3  00000003_001.png\n",
      "4  00000003_002.png\n"
     ]
    }
   ],
   "source": [
    "import pandas as pd\n",
    "\n",
    "# Load nih-cxr-lt_image_ids.csv\n",
    "metadata_id_longtail = pd.read_csv('/Users/krishnanand/CXR8/LongTailCXR/nih-cxr-lt_image_ids.csv')\n",
    "\n",
    "# View columns and sample rows\n",
    "print(metadata_id_longtail.columns)\n",
    "print(metadata_id_longtail.head())"
   ]
  },
  {
   "cell_type": "code",
   "execution_count": 2,
   "metadata": {},
   "outputs": [
    {
     "name": "stdout",
     "output_type": "stream",
     "text": [
      "Index(['id', 'Atelectasis', 'Cardiomegaly', 'Consolidation', 'Edema',\n",
      "       'Effusion', 'Emphysema', 'Fibrosis', 'Hernia', 'Infiltration', 'Mass',\n",
      "       'Nodule', 'Pleural_Thickening', 'Pneumonia', 'Pneumothorax',\n",
      "       'Pneumoperitoneum', 'Pneumomediastinum', 'Subcutaneous Emphysema',\n",
      "       'Tortuous Aorta', 'Calcification of the Aorta', 'No Finding',\n",
      "       'subject_id'],\n",
      "      dtype='object')\n",
      "                 id  Atelectasis  Cardiomegaly  Consolidation  Edema  \\\n",
      "0  00000583_003.png            1             0              0      0   \n",
      "1  00000583_008.png            1             0              0      0   \n",
      "2  00000583_009.png            1             0              0      0   \n",
      "3  00000583_010.png            1             0              0      0   \n",
      "4  00000583_031.png            1             0              0      0   \n",
      "\n",
      "   Effusion  Emphysema  Fibrosis  Hernia  Infiltration  ...  \\\n",
      "0         0          0         0       0             0  ...   \n",
      "1         0          0         0       0             0  ...   \n",
      "2         0          0         0       0             0  ...   \n",
      "3         0          0         0       0             0  ...   \n",
      "4         0          0         0       0             0  ...   \n",
      "\n",
      "   Pleural_Thickening  Pneumonia  Pneumothorax  Pneumoperitoneum  \\\n",
      "0                   0          0             0                 0   \n",
      "1                   0          0             0                 0   \n",
      "2                   0          0             0                 0   \n",
      "3                   0          0             0                 0   \n",
      "4                   0          0             0                 0   \n",
      "\n",
      "   Pneumomediastinum  Subcutaneous Emphysema  Tortuous Aorta  \\\n",
      "0                  0                       0               0   \n",
      "1                  0                       0               0   \n",
      "2                  0                       0               0   \n",
      "3                  0                       0               0   \n",
      "4                  0                       0               0   \n",
      "\n",
      "   Calcification of the Aorta  No Finding  subject_id  \n",
      "0                           0           0         583  \n",
      "1                           0           0         583  \n",
      "2                           0           0         583  \n",
      "3                           0           0         583  \n",
      "4                           0           0         583  \n",
      "\n",
      "[5 rows x 22 columns]\n"
     ]
    }
   ],
   "source": [
    "# Load primary nih-cxr-lt_single-label_balanced-test\n",
    "metadata_longtail_lt_single_label_balanced_test = pd.read_csv('/Users/krishnanand/CXR8/LongTailCXR/nih-cxr-lt_single-label_balanced-test.csv')\n",
    "\n",
    "# View columns and sample rows\n",
    "print(metadata_longtail_lt_single_label_balanced_test.columns)\n",
    "print(metadata_longtail_lt_single_label_balanced_test.head())"
   ]
  },
  {
   "cell_type": "code",
   "execution_count": 3,
   "metadata": {},
   "outputs": [
    {
     "name": "stdout",
     "output_type": "stream",
     "text": [
      "Index(['id', 'Atelectasis', 'Cardiomegaly', 'Consolidation', 'Edema',\n",
      "       'Effusion', 'Emphysema', 'Fibrosis', 'Hernia', 'Infiltration', 'Mass',\n",
      "       'Nodule', 'Pleural_Thickening', 'Pneumonia', 'Pneumothorax',\n",
      "       'Pneumoperitoneum', 'Pneumomediastinum', 'Subcutaneous Emphysema',\n",
      "       'Tortuous Aorta', 'Calcification of the Aorta', 'No Finding',\n",
      "       'subject_id'],\n",
      "      dtype='object')\n",
      "                 id  Atelectasis  Cardiomegaly  Consolidation  Edema  \\\n",
      "0  00003109_004.png            1             0              0      0   \n",
      "1  00003109_006.png            1             0              0      0   \n",
      "2  00003109_008.png            1             0              0      0   \n",
      "3  00018657_001.png            1             0              0      0   \n",
      "4  00018657_008.png            1             0              0      0   \n",
      "\n",
      "   Effusion  Emphysema  Fibrosis  Hernia  Infiltration  ...  \\\n",
      "0         0          0         0       0             0  ...   \n",
      "1         0          0         0       0             0  ...   \n",
      "2         0          0         0       0             0  ...   \n",
      "3         0          0         0       0             0  ...   \n",
      "4         0          0         0       0             0  ...   \n",
      "\n",
      "   Pleural_Thickening  Pneumonia  Pneumothorax  Pneumoperitoneum  \\\n",
      "0                   0          0             0                 0   \n",
      "1                   0          0             0                 0   \n",
      "2                   0          0             0                 0   \n",
      "3                   0          0             0                 0   \n",
      "4                   0          0             0                 0   \n",
      "\n",
      "   Pneumomediastinum  Subcutaneous Emphysema  Tortuous Aorta  \\\n",
      "0                  0                       0               0   \n",
      "1                  0                       0               0   \n",
      "2                  0                       0               0   \n",
      "3                  0                       0               0   \n",
      "4                  0                       0               0   \n",
      "\n",
      "   Calcification of the Aorta  No Finding  subject_id  \n",
      "0                           0           0        3109  \n",
      "1                           0           0        3109  \n",
      "2                           0           0        3109  \n",
      "3                           0           0       18657  \n",
      "4                           0           0       18657  \n",
      "\n",
      "[5 rows x 22 columns]\n"
     ]
    }
   ],
   "source": [
    "# Load primary nih-cxr-lt_single-label_balanced-val.csv\n",
    "metadata_nih_cxr_lt_single_label_balanced_val = pd.read_csv('/Users/krishnanand/CXR8/LongTailCXR/nih-cxr-lt_single-label_balanced-val.csv')\n",
    "\n",
    "# View columns and sample rows\n",
    "print(metadata_nih_cxr_lt_single_label_balanced_val.columns)\n",
    "print(metadata_nih_cxr_lt_single_label_balanced_val.head())"
   ]
  },
  {
   "cell_type": "code",
   "execution_count": 4,
   "metadata": {},
   "outputs": [
    {
     "name": "stdout",
     "output_type": "stream",
     "text": [
      "Index(['id', 'Atelectasis', 'Cardiomegaly', 'Consolidation', 'Edema',\n",
      "       'Effusion', 'Emphysema', 'Fibrosis', 'Hernia', 'Infiltration', 'Mass',\n",
      "       'Nodule', 'Pleural_Thickening', 'Pneumonia', 'Pneumothorax',\n",
      "       'Pneumoperitoneum', 'Pneumomediastinum', 'Subcutaneous Emphysema',\n",
      "       'Tortuous Aorta', 'Calcification of the Aorta', 'No Finding',\n",
      "       'subject_id'],\n",
      "      dtype='object')\n",
      "                 id  Atelectasis  Cardiomegaly  Consolidation  Edema  \\\n",
      "0  00000003_000.png            0             0              0      0   \n",
      "1  00000003_001.png            0             0              0      0   \n",
      "2  00000003_002.png            0             0              0      0   \n",
      "3  00000003_004.png            0             0              0      0   \n",
      "4  00000003_005.png            0             0              0      0   \n",
      "\n",
      "   Effusion  Emphysema  Fibrosis  Hernia  Infiltration  ...  \\\n",
      "0         0          0         0       1             0  ...   \n",
      "1         0          0         0       1             0  ...   \n",
      "2         0          0         0       1             0  ...   \n",
      "3         0          0         0       1             0  ...   \n",
      "4         0          0         0       1             0  ...   \n",
      "\n",
      "   Pleural_Thickening  Pneumonia  Pneumothorax  Pneumoperitoneum  \\\n",
      "0                   0          0             0                 0   \n",
      "1                   0          0             0                 0   \n",
      "2                   0          0             0                 0   \n",
      "3                   0          0             0                 0   \n",
      "4                   0          0             0                 0   \n",
      "\n",
      "   Pneumomediastinum  Subcutaneous Emphysema  Tortuous Aorta  \\\n",
      "0                  0                       0               0   \n",
      "1                  0                       0               0   \n",
      "2                  0                       0               0   \n",
      "3                  0                       0               0   \n",
      "4                  0                       0               0   \n",
      "\n",
      "   Calcification of the Aorta  No Finding  subject_id  \n",
      "0                           0           0           3  \n",
      "1                           0           0           3  \n",
      "2                           0           0           3  \n",
      "3                           0           0           3  \n",
      "4                           0           0           3  \n",
      "\n",
      "[5 rows x 22 columns]\n"
     ]
    }
   ],
   "source": [
    "# Load primary nih-cxr-lt_single-label_balanced-val.csv\n",
    "metadata_nih_cxr_lt_single_label_test = pd.read_csv('/Users/krishnanand/CXR8/LongTailCXR/nih-cxr-lt_single-label_test.csv')\n",
    "\n",
    "# View columns and sample rows\n",
    "print(metadata_nih_cxr_lt_single_label_test.columns)\n",
    "print(metadata_nih_cxr_lt_single_label_test.head())"
   ]
  },
  {
   "cell_type": "code",
   "execution_count": 5,
   "metadata": {},
   "outputs": [
    {
     "name": "stdout",
     "output_type": "stream",
     "text": [
      "Index(['id', 'Atelectasis', 'Cardiomegaly', 'Consolidation', 'Edema',\n",
      "       'Effusion', 'Emphysema', 'Fibrosis', 'Hernia', 'Infiltration', 'Mass',\n",
      "       'Nodule', 'Pleural_Thickening', 'Pneumonia', 'Pneumothorax',\n",
      "       'Pneumoperitoneum', 'Pneumomediastinum', 'Subcutaneous Emphysema',\n",
      "       'Tortuous Aorta', 'Calcification of the Aorta', 'No Finding',\n",
      "       'subject_id'],\n",
      "      dtype='object')\n",
      "                 id  Atelectasis  Cardiomegaly  Consolidation  Edema  \\\n",
      "0  00000001_000.png            0             1              0      0   \n",
      "1  00000002_000.png            0             0              0      0   \n",
      "2  00000005_000.png            0             0              0      0   \n",
      "3  00000005_001.png            0             0              0      0   \n",
      "4  00000005_002.png            0             0              0      0   \n",
      "\n",
      "   Effusion  Emphysema  Fibrosis  Hernia  Infiltration  ...  \\\n",
      "0         0          0         0       0             0  ...   \n",
      "1         0          0         0       0             0  ...   \n",
      "2         0          0         0       0             0  ...   \n",
      "3         0          0         0       0             0  ...   \n",
      "4         0          0         0       0             0  ...   \n",
      "\n",
      "   Pleural_Thickening  Pneumonia  Pneumothorax  Pneumoperitoneum  \\\n",
      "0                   0          0             0                 0   \n",
      "1                   0          0             0                 0   \n",
      "2                   0          0             0                 0   \n",
      "3                   0          0             0                 0   \n",
      "4                   0          0             0                 0   \n",
      "\n",
      "   Pneumomediastinum  Subcutaneous Emphysema  Tortuous Aorta  \\\n",
      "0                  0                       0               0   \n",
      "1                  0                       0               0   \n",
      "2                  0                       0               0   \n",
      "3                  0                       0               0   \n",
      "4                  0                       0               0   \n",
      "\n",
      "   Calcification of the Aorta  No Finding  subject_id  \n",
      "0                           0           0           1  \n",
      "1                           0           1           2  \n",
      "2                           0           1           5  \n",
      "3                           0           1           5  \n",
      "4                           0           1           5  \n",
      "\n",
      "[5 rows x 22 columns]\n"
     ]
    }
   ],
   "source": [
    "# Load primary nih-cxr-lt_single-label_balanced-val.csv\n",
    "metadata_nih_cxr_lt_single_label_train = pd.read_csv('/Users/krishnanand/CXR8/LongTailCXR/nih-cxr-lt_single-label_train.csv')\n",
    "\n",
    "# View columns and sample rows\n",
    "print(metadata_nih_cxr_lt_single_label_train.columns)\n",
    "print(metadata_nih_cxr_lt_single_label_train.head())    "
   ]
  },
  {
   "cell_type": "markdown",
   "metadata": {},
   "source": [
    "# Prune CXR"
   ]
  },
  {
   "cell_type": "code",
   "execution_count": 6,
   "metadata": {},
   "outputs": [
    {
     "name": "stdout",
     "output_type": "stream",
     "text": [
      "Index(['id', 'Atelectasis', 'Cardiomegaly', 'Consolidation', 'Edema',\n",
      "       'Effusion', 'Emphysema', 'Fibrosis', 'Hernia', 'Infiltration', 'Mass',\n",
      "       'Nodule', 'Pleural Thickening', 'Pneumonia', 'Pneumothorax',\n",
      "       'Pneumoperitoneum', 'Pneumomediastinum', 'Subcutaneous Emphysema',\n",
      "       'Tortuous Aorta', 'Calcification of the Aorta', 'No Finding',\n",
      "       'subj_id'],\n",
      "      dtype='object')\n",
      "                 id  Atelectasis  Cardiomegaly  Consolidation  Edema  \\\n",
      "0  00000013_000.png            0             0              0      0   \n",
      "1  00000013_001.png            0             0              0      0   \n",
      "2  00000013_002.png            0             0              0      0   \n",
      "3  00000013_003.png            0             0              0      0   \n",
      "4  00000013_004.png            0             0              0      0   \n",
      "\n",
      "   Effusion  Emphysema  Fibrosis  Hernia  Infiltration  ...  \\\n",
      "0         0          0         0       0             0  ...   \n",
      "1         0          1         0       0             0  ...   \n",
      "2         0          1         0       0             0  ...   \n",
      "3         0          0         0       0             0  ...   \n",
      "4         1          1         0       0             1  ...   \n",
      "\n",
      "   Pleural Thickening  Pneumonia  Pneumothorax  Pneumoperitoneum  \\\n",
      "0                   0          0             0                 0   \n",
      "1                   0          0             1                 0   \n",
      "2                   0          0             1                 0   \n",
      "3                   1          0             0                 0   \n",
      "4                   0          0             1                 0   \n",
      "\n",
      "   Pneumomediastinum  Subcutaneous Emphysema  Tortuous Aorta  \\\n",
      "0                  0                       0               0   \n",
      "1                  0                       1               0   \n",
      "2                  0                       1               0   \n",
      "3                  0                       0               0   \n",
      "4                  0                       1               0   \n",
      "\n",
      "   Calcification of the Aorta  No Finding  subj_id  \n",
      "0                           0           1       13  \n",
      "1                           0           0       13  \n",
      "2                           0           0       13  \n",
      "3                           0           0       13  \n",
      "4                           0           0       13  \n",
      "\n",
      "[5 rows x 22 columns]\n"
     ]
    }
   ],
   "source": [
    "# Load miccai2023_nih-cxr-lt_labels_test\n",
    "metadata_miccai2023_nih_cxr_lt_labels_test = pd.read_csv('/Users/krishnanand/CXR8/PruneCXR/miccai2023_nih-cxr-lt_labels_test.csv')\n",
    "\n",
    "# View columns and sample rows\n",
    "print(metadata_miccai2023_nih_cxr_lt_labels_test.columns)\n",
    "print(metadata_miccai2023_nih_cxr_lt_labels_test.head())    "
   ]
  },
  {
   "cell_type": "code",
   "execution_count": 7,
   "metadata": {},
   "outputs": [
    {
     "name": "stdout",
     "output_type": "stream",
     "text": [
      "Index(['id', 'Atelectasis', 'Cardiomegaly', 'Consolidation', 'Edema',\n",
      "       'Effusion', 'Emphysema', 'Fibrosis', 'Hernia', 'Infiltration', 'Mass',\n",
      "       'Nodule', 'Pleural Thickening', 'Pneumonia', 'Pneumothorax',\n",
      "       'Pneumoperitoneum', 'Pneumomediastinum', 'Subcutaneous Emphysema',\n",
      "       'Tortuous Aorta', 'Calcification of the Aorta', 'No Finding',\n",
      "       'subj_id'],\n",
      "      dtype='object')\n",
      "                 id  Atelectasis  Cardiomegaly  Consolidation  Edema  \\\n",
      "0  00000001_000.png            0             1              0      0   \n",
      "1  00000001_001.png            0             1              0      0   \n",
      "2  00000001_002.png            0             1              0      0   \n",
      "3  00000002_000.png            0             0              0      0   \n",
      "4  00000004_000.png            0             0              0      0   \n",
      "\n",
      "   Effusion  Emphysema  Fibrosis  Hernia  Infiltration  ...  \\\n",
      "0         0          0         0       0             0  ...   \n",
      "1         0          1         0       0             0  ...   \n",
      "2         1          0         0       0             0  ...   \n",
      "3         0          0         0       0             0  ...   \n",
      "4         0          0         0       0             0  ...   \n",
      "\n",
      "   Pleural Thickening  Pneumonia  Pneumothorax  Pneumoperitoneum  \\\n",
      "0                   0          0             0                 0   \n",
      "1                   0          0             0                 0   \n",
      "2                   0          0             0                 0   \n",
      "3                   0          0             0                 0   \n",
      "4                   0          0             0                 0   \n",
      "\n",
      "   Pneumomediastinum  Subcutaneous Emphysema  Tortuous Aorta  \\\n",
      "0                  0                       0               0   \n",
      "1                  0                       0               0   \n",
      "2                  0                       0               0   \n",
      "3                  0                       0               0   \n",
      "4                  0                       0               0   \n",
      "\n",
      "   Calcification of the Aorta  No Finding  subj_id  \n",
      "0                           0           0        1  \n",
      "1                           0           0        1  \n",
      "2                           0           0        1  \n",
      "3                           0           1        2  \n",
      "4                           0           0        4  \n",
      "\n",
      "[5 rows x 22 columns]\n"
     ]
    }
   ],
   "source": [
    "# Load miccai2023_nih-cxr-lt_labels_train\n",
    "metadata_miccai2023_nih_cxr_lt_labels_train = pd.read_csv('/Users/krishnanand/CXR8/PruneCXR/miccai2023_nih-cxr-lt_labels_train.csv')\n",
    "\n",
    "# View columns and sample rows\n",
    "print(metadata_miccai2023_nih_cxr_lt_labels_train.columns)\n",
    "print(metadata_miccai2023_nih_cxr_lt_labels_train.head())    "
   ]
  },
  {
   "cell_type": "code",
   "execution_count": 8,
   "metadata": {},
   "outputs": [
    {
     "name": "stdout",
     "output_type": "stream",
     "text": [
      "Index(['id', 'Atelectasis', 'Cardiomegaly', 'Consolidation', 'Edema',\n",
      "       'Effusion', 'Emphysema', 'Fibrosis', 'Hernia', 'Infiltration', 'Mass',\n",
      "       'Nodule', 'Pleural Thickening', 'Pneumonia', 'Pneumothorax',\n",
      "       'Pneumoperitoneum', 'Pneumomediastinum', 'Subcutaneous Emphysema',\n",
      "       'Tortuous Aorta', 'Calcification of the Aorta', 'No Finding',\n",
      "       'subj_id'],\n",
      "      dtype='object')\n",
      "                 id  Atelectasis  Cardiomegaly  Consolidation  Edema  \\\n",
      "0  00000003_000.png            0             0              0      0   \n",
      "1  00000003_001.png            0             0              0      0   \n",
      "2  00000003_002.png            0             0              0      0   \n",
      "3  00000003_003.png            0             0              0      0   \n",
      "4  00000003_004.png            0             0              0      0   \n",
      "\n",
      "   Effusion  Emphysema  Fibrosis  Hernia  Infiltration  ...  \\\n",
      "0         0          0         0       1             0  ...   \n",
      "1         0          0         0       1             0  ...   \n",
      "2         0          0         0       1             0  ...   \n",
      "3         0          0         0       1             1  ...   \n",
      "4         0          0         0       1             0  ...   \n",
      "\n",
      "   Pleural Thickening  Pneumonia  Pneumothorax  Pneumoperitoneum  \\\n",
      "0                   0          0             0                 0   \n",
      "1                   0          0             0                 0   \n",
      "2                   0          0             0                 0   \n",
      "3                   0          0             0                 0   \n",
      "4                   0          0             0                 0   \n",
      "\n",
      "   Pneumomediastinum  Subcutaneous Emphysema  Tortuous Aorta  \\\n",
      "0                  0                       0               0   \n",
      "1                  0                       0               0   \n",
      "2                  0                       0               0   \n",
      "3                  0                       0               0   \n",
      "4                  0                       0               0   \n",
      "\n",
      "   Calcification of the Aorta  No Finding  subj_id  \n",
      "0                           0           0        3  \n",
      "1                           0           0        3  \n",
      "2                           0           0        3  \n",
      "3                           0           0        3  \n",
      "4                           0           0        3  \n",
      "\n",
      "[5 rows x 22 columns]\n"
     ]
    }
   ],
   "source": [
    "# Load miccai2023_nih-cxr-lt_labels_val\n",
    "metadata_miccai2023_nih_cxr_lt_labels_val = pd.read_csv('/Users/krishnanand/CXR8/PruneCXR/miccai2023_nih-cxr-lt_labels_val.csv')\n",
    "\n",
    "# View columns and sample rows\n",
    "print(metadata_miccai2023_nih_cxr_lt_labels_val.columns)\n",
    "print(metadata_miccai2023_nih_cxr_lt_labels_val.head())    "
   ]
  },
  {
   "cell_type": "markdown",
   "metadata": {},
   "source": [
    "## BBox List"
   ]
  },
  {
   "cell_type": "code",
   "execution_count": 9,
   "metadata": {},
   "outputs": [
    {
     "name": "stdout",
     "output_type": "stream",
     "text": [
      "Index(['Image Index', 'Finding Label', 'Bbox [x', 'y', 'w', 'h]', 'Unnamed: 6',\n",
      "       'Unnamed: 7', 'Unnamed: 8'],\n",
      "      dtype='object')\n",
      "        Image Index Finding Label     Bbox [x           y           w  \\\n",
      "0  00013118_008.png   Atelectasis  225.084746  547.019217   86.779661   \n",
      "1  00014716_007.png   Atelectasis  686.101695  131.543498  185.491525   \n",
      "2  00029817_009.png   Atelectasis  221.830508  317.053115  155.118644   \n",
      "3  00014687_001.png   Atelectasis  726.237288  494.951420  141.016949   \n",
      "4  00017877_001.png   Atelectasis  660.067797  569.780787  200.677966   \n",
      "\n",
      "           h]  Unnamed: 6  Unnamed: 7  Unnamed: 8  \n",
      "0   79.186441         NaN         NaN         NaN  \n",
      "1  313.491525         NaN         NaN         NaN  \n",
      "2  216.949153         NaN         NaN         NaN  \n",
      "3   55.322034         NaN         NaN         NaN  \n",
      "4   78.101695         NaN         NaN         NaN  \n"
     ]
    }
   ],
   "source": [
    "# Load BBox list\n",
    "metadata_BBox_List_2017 = pd.read_csv('/Users/krishnanand/CXR8/BBox_List_2017.csv')\n",
    "\n",
    "# View columns and sample rows\n",
    "print(metadata_BBox_List_2017.columns)\n",
    "print(metadata_BBox_List_2017.head())    "
   ]
  },
  {
   "cell_type": "markdown",
   "metadata": {},
   "source": [
    "## Data Entry 2017 - 2020"
   ]
  },
  {
   "cell_type": "code",
   "execution_count": 17,
   "metadata": {},
   "outputs": [
    {
     "name": "stdout",
     "output_type": "stream",
     "text": [
      "Index(['Image Index', 'Finding Labels', 'Follow-up #', 'Patient ID',\n",
      "       'Patient Age', 'Patient Gender', 'View Position', 'OriginalImage[Width',\n",
      "       'Height]', 'OriginalImagePixelSpacing[x', 'y]'],\n",
      "      dtype='object')\n",
      "        Image Index          Finding Labels  Follow-up #  Patient ID  \\\n",
      "0  00000001_000.png            Cardiomegaly            0           1   \n",
      "1  00000001_001.png  Cardiomegaly|Emphysema            1           1   \n",
      "2  00000001_002.png   Cardiomegaly|Effusion            2           1   \n",
      "3  00000002_000.png              No Finding            0           2   \n",
      "4  00000003_001.png                  Hernia            0           3   \n",
      "\n",
      "   Patient Age Patient Gender View Position  OriginalImage[Width  Height]  \\\n",
      "0           57              M            PA                 2682     2749   \n",
      "1           58              M            PA                 2894     2729   \n",
      "2           58              M            PA                 2500     2048   \n",
      "3           80              M            PA                 2500     2048   \n",
      "4           74              F            PA                 2500     2048   \n",
      "\n",
      "   OriginalImagePixelSpacing[x     y]  \n",
      "0                        0.143  0.143  \n",
      "1                        0.143  0.143  \n",
      "2                        0.168  0.168  \n",
      "3                        0.171  0.171  \n",
      "4                        0.168  0.168  \n"
     ]
    }
   ],
   "source": [
    "# Load Data Entry 2017-2020\n",
    "metadata_Data_Entry_2017_v2020 = pd.read_csv('/Users/krishnanand/CXR8/Data_Entry_2017_v2020.csv')\n",
    "\n",
    "# View columns and sample rows\n",
    "print(metadata_Data_Entry_2017_v2020.columns)\n",
    "print(metadata_Data_Entry_2017_v2020.head())    "
   ]
  },
  {
   "cell_type": "code",
   "execution_count": 18,
   "metadata": {},
   "outputs": [
    {
     "name": "stdout",
     "output_type": "stream",
     "text": [
      "        Image Index          Finding Labels\n",
      "0  00000001_000.png            Cardiomegaly\n",
      "1  00000001_001.png  Cardiomegaly|Emphysema\n",
      "2  00000001_002.png   Cardiomegaly|Effusion\n",
      "3  00000002_000.png              No Finding\n",
      "4  00000003_001.png                  Hernia\n"
     ]
    }
   ],
   "source": [
    "import os\n",
    "\n",
    "# Define the root folder where images are stored\n",
    "image_root_folder = '/Users/krishnanand/CXR8/images/'  # Adjust this path to your setup\n",
    "\n",
    "# Display the first few rows to understand the structure\n",
    "print(metadata_Data_Entry_2017_v2020[['Image Index', 'Finding Labels']].head())"
   ]
  },
  {
   "cell_type": "code",
   "execution_count": null,
   "metadata": {},
   "outputs": [],
   "source": [
    "# Function to get the full path of each image by searching in subdirectories\n",
    "def get_image_path(image_name):\n",
    "    # Loop through subdirectories to locate the image\n",
    "    for root, dirs, files in os.walk(image_root_folder):\n",
    "        if image_name in files:\n",
    "            return os.path.join(root, image_name)\n",
    "    return None  # Return None if the image is not found\n",
    "\n",
    "# Apply the function to map each image in the DataFrame \n",
    "metadata_Data_Entry_2017_v2020['image_path'] = metadata_Data_Entry_2017_v2020['Image Index'].apply(get_image_path)\n",
    "\n",
    "# Verify the mappings\n",
    "print(metadata_Data_Entry_2017_v2020[['Image Index', 'Finding Labels', 'image_path']].head())"
   ]
  },
  {
   "cell_type": "code",
   "execution_count": null,
   "metadata": {},
   "outputs": [],
   "source": []
  }
 ],
 "metadata": {
  "kernelspec": {
   "display_name": "base",
   "language": "python",
   "name": "python3"
  },
  "language_info": {
   "codemirror_mode": {
    "name": "ipython",
    "version": 3
   },
   "file_extension": ".py",
   "mimetype": "text/x-python",
   "name": "python",
   "nbconvert_exporter": "python",
   "pygments_lexer": "ipython3",
   "version": "3.9.13"
  }
 },
 "nbformat": 4,
 "nbformat_minor": 2
}
